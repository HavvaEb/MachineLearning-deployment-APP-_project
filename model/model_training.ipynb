{
 "cells": [
  {
   "cell_type": "code",
   "execution_count": 56,
   "metadata": {},
   "outputs": [
    {
     "data": {
      "text/html": [
       "<div>\n",
       "<style scoped>\n",
       "    .dataframe tbody tr th:only-of-type {\n",
       "        vertical-align: middle;\n",
       "    }\n",
       "\n",
       "    .dataframe tbody tr th {\n",
       "        vertical-align: top;\n",
       "    }\n",
       "\n",
       "    .dataframe thead th {\n",
       "        text-align: right;\n",
       "    }\n",
       "</style>\n",
       "<table border=\"1\" class=\"dataframe\">\n",
       "  <thead>\n",
       "    <tr style=\"text-align: right;\">\n",
       "      <th></th>\n",
       "      <th>Unnamed: 0</th>\n",
       "      <th>Title</th>\n",
       "      <th>Location</th>\n",
       "      <th>Price</th>\n",
       "      <th>Area</th>\n",
       "      <th>Number_of_Rooms</th>\n",
       "      <th>Furnished</th>\n",
       "      <th>Kitchen type</th>\n",
       "      <th>Status</th>\n",
       "      <th>Garden surface</th>\n",
       "      <th>Swimming Pool</th>\n",
       "      <th>AreaFrom</th>\n",
       "      <th>AreaTo</th>\n",
       "    </tr>\n",
       "  </thead>\n",
       "  <tbody>\n",
       "    <tr>\n",
       "      <th>0</th>\n",
       "      <td>1</td>\n",
       "      <td>House for sale</td>\n",
       "      <td>Lembergsesteenweg 67 Box lot 2</td>\n",
       "      <td>419000</td>\n",
       "      <td>188.0</td>\n",
       "      <td>3</td>\n",
       "      <td>No</td>\n",
       "      <td>Hyper equipped</td>\n",
       "      <td>As new</td>\n",
       "      <td>330</td>\n",
       "      <td>No</td>\n",
       "      <td>188</td>\n",
       "      <td>NaN</td>\n",
       "    </tr>\n",
       "    <tr>\n",
       "      <th>1</th>\n",
       "      <td>2</td>\n",
       "      <td>House for sale</td>\n",
       "      <td>Lembergsesteenweg 67 Box lot 1</td>\n",
       "      <td>459000</td>\n",
       "      <td>164.0</td>\n",
       "      <td>3</td>\n",
       "      <td>No</td>\n",
       "      <td>Hyper equipped</td>\n",
       "      <td>As new</td>\n",
       "      <td>341</td>\n",
       "      <td>No</td>\n",
       "      <td>164</td>\n",
       "      <td>NaN</td>\n",
       "    </tr>\n",
       "    <tr>\n",
       "      <th>2</th>\n",
       "      <td>3</td>\n",
       "      <td>House for sale</td>\n",
       "      <td>Ruelle Hierby 17</td>\n",
       "      <td>149000</td>\n",
       "      <td>134.0</td>\n",
       "      <td>2</td>\n",
       "      <td>No</td>\n",
       "      <td>Installed</td>\n",
       "      <td>Good</td>\n",
       "      <td>300</td>\n",
       "      <td>No</td>\n",
       "      <td>134</td>\n",
       "      <td>NaN</td>\n",
       "    </tr>\n",
       "    <tr>\n",
       "      <th>3</th>\n",
       "      <td>4</td>\n",
       "      <td>House for sale</td>\n",
       "      <td>Rue Petite Voie 176</td>\n",
       "      <td>149000</td>\n",
       "      <td>198.0</td>\n",
       "      <td>5</td>\n",
       "      <td>No</td>\n",
       "      <td>Semi equipped</td>\n",
       "      <td>To be done up</td>\n",
       "      <td>147</td>\n",
       "      <td>No</td>\n",
       "      <td>198</td>\n",
       "      <td>NaN</td>\n",
       "    </tr>\n",
       "    <tr>\n",
       "      <th>4</th>\n",
       "      <td>5</td>\n",
       "      <td>House for sale</td>\n",
       "      <td>Rue Pierre Curie 107</td>\n",
       "      <td>149000</td>\n",
       "      <td>80.0</td>\n",
       "      <td>2</td>\n",
       "      <td>No</td>\n",
       "      <td>Not installed</td>\n",
       "      <td>Good</td>\n",
       "      <td>147</td>\n",
       "      <td>No</td>\n",
       "      <td>80</td>\n",
       "      <td>NaN</td>\n",
       "    </tr>\n",
       "    <tr>\n",
       "      <th>5</th>\n",
       "      <td>6</td>\n",
       "      <td>House for sale</td>\n",
       "      <td>Blauwesteen 187</td>\n",
       "      <td>159000</td>\n",
       "      <td>155.0</td>\n",
       "      <td>2</td>\n",
       "      <td>No</td>\n",
       "      <td>Semi equipped</td>\n",
       "      <td>To renovate</td>\n",
       "      <td>50</td>\n",
       "      <td>No</td>\n",
       "      <td>155</td>\n",
       "      <td>NaN</td>\n",
       "    </tr>\n",
       "    <tr>\n",
       "      <th>6</th>\n",
       "      <td>7</td>\n",
       "      <td>House for sale</td>\n",
       "      <td>Rue de L'Eglise 18</td>\n",
       "      <td>219000</td>\n",
       "      <td>278.0</td>\n",
       "      <td>5</td>\n",
       "      <td>No</td>\n",
       "      <td>Not installed</td>\n",
       "      <td>To renovate</td>\n",
       "      <td>1092</td>\n",
       "      <td>No</td>\n",
       "      <td>278</td>\n",
       "      <td>NaN</td>\n",
       "    </tr>\n",
       "    <tr>\n",
       "      <th>7</th>\n",
       "      <td>8</td>\n",
       "      <td>House for sale</td>\n",
       "      <td>Kruisstraat 91</td>\n",
       "      <td>139000</td>\n",
       "      <td>112.0</td>\n",
       "      <td>3</td>\n",
       "      <td>No</td>\n",
       "      <td>Installed</td>\n",
       "      <td>To be done up</td>\n",
       "      <td>23</td>\n",
       "      <td>No</td>\n",
       "      <td>112</td>\n",
       "      <td>NaN</td>\n",
       "    </tr>\n",
       "    <tr>\n",
       "      <th>8</th>\n",
       "      <td>9</td>\n",
       "      <td>House for sale</td>\n",
       "      <td>Stooktstraat 70</td>\n",
       "      <td>239000</td>\n",
       "      <td>150.0</td>\n",
       "      <td>3</td>\n",
       "      <td>No</td>\n",
       "      <td>Hyper equipped</td>\n",
       "      <td>Just renovated</td>\n",
       "      <td>250</td>\n",
       "      <td>No</td>\n",
       "      <td>150</td>\n",
       "      <td>NaN</td>\n",
       "    </tr>\n",
       "    <tr>\n",
       "      <th>9</th>\n",
       "      <td>10</td>\n",
       "      <td>Quartier du Bailou - Maisons</td>\n",
       "      <td>4837 — Baelen</td>\n",
       "      <td>295000</td>\n",
       "      <td>212.0</td>\n",
       "      <td>3</td>\n",
       "      <td>No</td>\n",
       "      <td>Hyper equipped</td>\n",
       "      <td>Just renovated</td>\n",
       "      <td>250</td>\n",
       "      <td>No</td>\n",
       "      <td>188</td>\n",
       "      <td>236.0</td>\n",
       "    </tr>\n",
       "    <tr>\n",
       "      <th>10</th>\n",
       "      <td>11</td>\n",
       "      <td>House for sale</td>\n",
       "      <td>Rue Cyrille Bauwens 35</td>\n",
       "      <td>345000</td>\n",
       "      <td>115.0</td>\n",
       "      <td>3</td>\n",
       "      <td>No</td>\n",
       "      <td>Semi equipped</td>\n",
       "      <td>To be done up</td>\n",
       "      <td>700</td>\n",
       "      <td>No</td>\n",
       "      <td>115</td>\n",
       "      <td>NaN</td>\n",
       "    </tr>\n",
       "    <tr>\n",
       "      <th>11</th>\n",
       "      <td>12</td>\n",
       "      <td>House for sale</td>\n",
       "      <td>Rue Vankeerberghen 23</td>\n",
       "      <td>125000</td>\n",
       "      <td>100.0</td>\n",
       "      <td>3</td>\n",
       "      <td>No</td>\n",
       "      <td>Semi equipped</td>\n",
       "      <td>Good</td>\n",
       "      <td>700</td>\n",
       "      <td>No</td>\n",
       "      <td>100</td>\n",
       "      <td>NaN</td>\n",
       "    </tr>\n",
       "    <tr>\n",
       "      <th>12</th>\n",
       "      <td>13</td>\n",
       "      <td>House for sale</td>\n",
       "      <td>Koning Albert I-straat 130</td>\n",
       "      <td>379000</td>\n",
       "      <td>210.0</td>\n",
       "      <td>4</td>\n",
       "      <td>No</td>\n",
       "      <td>Installed</td>\n",
       "      <td>Just renovated</td>\n",
       "      <td>320</td>\n",
       "      <td>No</td>\n",
       "      <td>210</td>\n",
       "      <td>NaN</td>\n",
       "    </tr>\n",
       "    <tr>\n",
       "      <th>13</th>\n",
       "      <td>14</td>\n",
       "      <td>House for sale</td>\n",
       "      <td>Rue de la Roche Fatale 74</td>\n",
       "      <td>545000</td>\n",
       "      <td>165.0</td>\n",
       "      <td>3</td>\n",
       "      <td>No</td>\n",
       "      <td>USA installed</td>\n",
       "      <td>As new</td>\n",
       "      <td>50</td>\n",
       "      <td>No</td>\n",
       "      <td>165</td>\n",
       "      <td>NaN</td>\n",
       "    </tr>\n",
       "    <tr>\n",
       "      <th>14</th>\n",
       "      <td>15</td>\n",
       "      <td>House for sale</td>\n",
       "      <td>Hugo Verrieststraat 6</td>\n",
       "      <td>262500</td>\n",
       "      <td>130.0</td>\n",
       "      <td>3</td>\n",
       "      <td>No</td>\n",
       "      <td>Installed</td>\n",
       "      <td>Good</td>\n",
       "      <td>50</td>\n",
       "      <td>No</td>\n",
       "      <td>130</td>\n",
       "      <td>NaN</td>\n",
       "    </tr>\n",
       "    <tr>\n",
       "      <th>15</th>\n",
       "      <td>16</td>\n",
       "      <td>House for sale</td>\n",
       "      <td>Pompoenstraat 14</td>\n",
       "      <td>335000</td>\n",
       "      <td>180.0</td>\n",
       "      <td>3</td>\n",
       "      <td>No</td>\n",
       "      <td>Installed</td>\n",
       "      <td>Just renovated</td>\n",
       "      <td>50</td>\n",
       "      <td>No</td>\n",
       "      <td>180</td>\n",
       "      <td>NaN</td>\n",
       "    </tr>\n",
       "    <tr>\n",
       "      <th>16</th>\n",
       "      <td>17</td>\n",
       "      <td>House for sale</td>\n",
       "      <td>Rue Sondeville 29</td>\n",
       "      <td>279000</td>\n",
       "      <td>163.0</td>\n",
       "      <td>4</td>\n",
       "      <td>No</td>\n",
       "      <td>Not installed</td>\n",
       "      <td>To be done up</td>\n",
       "      <td>1900</td>\n",
       "      <td>No</td>\n",
       "      <td>163</td>\n",
       "      <td>NaN</td>\n",
       "    </tr>\n",
       "    <tr>\n",
       "      <th>17</th>\n",
       "      <td>18</td>\n",
       "      <td>Apartment block for sale</td>\n",
       "      <td>Rue de Hermee 48</td>\n",
       "      <td>299000</td>\n",
       "      <td>177.0</td>\n",
       "      <td>4</td>\n",
       "      <td>No</td>\n",
       "      <td>Installed</td>\n",
       "      <td>Good</td>\n",
       "      <td>369</td>\n",
       "      <td>No</td>\n",
       "      <td>177</td>\n",
       "      <td>NaN</td>\n",
       "    </tr>\n",
       "    <tr>\n",
       "      <th>18</th>\n",
       "      <td>19</td>\n",
       "      <td>House for sale</td>\n",
       "      <td>Rue Jolet 13 &amp; 15</td>\n",
       "      <td>367000</td>\n",
       "      <td>260.0</td>\n",
       "      <td>6</td>\n",
       "      <td>No</td>\n",
       "      <td>Not installed</td>\n",
       "      <td>Good</td>\n",
       "      <td>42</td>\n",
       "      <td>No</td>\n",
       "      <td>260</td>\n",
       "      <td>NaN</td>\n",
       "    </tr>\n",
       "    <tr>\n",
       "      <th>19</th>\n",
       "      <td>20</td>\n",
       "      <td>House for sale</td>\n",
       "      <td>Rue Quinettes 12</td>\n",
       "      <td>219000</td>\n",
       "      <td>111.0</td>\n",
       "      <td>3</td>\n",
       "      <td>Yes</td>\n",
       "      <td>Semi equipped</td>\n",
       "      <td>Good</td>\n",
       "      <td>536</td>\n",
       "      <td>No</td>\n",
       "      <td>111</td>\n",
       "      <td>NaN</td>\n",
       "    </tr>\n",
       "  </tbody>\n",
       "</table>\n",
       "</div>"
      ],
      "text/plain": [
       "    Unnamed: 0                         Title                        Location  \\\n",
       "0            1                House for sale  Lembergsesteenweg 67 Box lot 2   \n",
       "1            2                House for sale  Lembergsesteenweg 67 Box lot 1   \n",
       "2            3                House for sale                Ruelle Hierby 17   \n",
       "3            4                House for sale             Rue Petite Voie 176   \n",
       "4            5                House for sale            Rue Pierre Curie 107   \n",
       "5            6                House for sale                 Blauwesteen 187   \n",
       "6            7                House for sale              Rue de L'Eglise 18   \n",
       "7            8                House for sale                  Kruisstraat 91   \n",
       "8            9                House for sale                 Stooktstraat 70   \n",
       "9           10  Quartier du Bailou - Maisons                   4837 — Baelen   \n",
       "10          11                House for sale          Rue Cyrille Bauwens 35   \n",
       "11          12                House for sale           Rue Vankeerberghen 23   \n",
       "12          13                House for sale      Koning Albert I-straat 130   \n",
       "13          14                House for sale       Rue de la Roche Fatale 74   \n",
       "14          15                House for sale           Hugo Verrieststraat 6   \n",
       "15          16                House for sale                Pompoenstraat 14   \n",
       "16          17                House for sale               Rue Sondeville 29   \n",
       "17          18      Apartment block for sale                Rue de Hermee 48   \n",
       "18          19                House for sale               Rue Jolet 13 & 15   \n",
       "19          20                House for sale                Rue Quinettes 12   \n",
       "\n",
       "     Price   Area  Number_of_Rooms Furnished    Kitchen type          Status  \\\n",
       "0   419000  188.0                3        No  Hyper equipped          As new   \n",
       "1   459000  164.0                3        No  Hyper equipped          As new   \n",
       "2   149000  134.0                2        No       Installed            Good   \n",
       "3   149000  198.0                5        No   Semi equipped   To be done up   \n",
       "4   149000   80.0                2        No   Not installed            Good   \n",
       "5   159000  155.0                2        No   Semi equipped     To renovate   \n",
       "6   219000  278.0                5        No   Not installed     To renovate   \n",
       "7   139000  112.0                3        No       Installed   To be done up   \n",
       "8   239000  150.0                3        No  Hyper equipped  Just renovated   \n",
       "9   295000  212.0                3        No  Hyper equipped  Just renovated   \n",
       "10  345000  115.0                3        No   Semi equipped   To be done up   \n",
       "11  125000  100.0                3        No   Semi equipped            Good   \n",
       "12  379000  210.0                4        No       Installed  Just renovated   \n",
       "13  545000  165.0                3        No   USA installed          As new   \n",
       "14  262500  130.0                3        No       Installed            Good   \n",
       "15  335000  180.0                3        No       Installed  Just renovated   \n",
       "16  279000  163.0                4        No   Not installed   To be done up   \n",
       "17  299000  177.0                4        No       Installed            Good   \n",
       "18  367000  260.0                6        No   Not installed            Good   \n",
       "19  219000  111.0                3       Yes   Semi equipped            Good   \n",
       "\n",
       "    Garden surface Swimming Pool  AreaFrom  AreaTo  \n",
       "0              330            No       188     NaN  \n",
       "1              341            No       164     NaN  \n",
       "2              300            No       134     NaN  \n",
       "3              147            No       198     NaN  \n",
       "4              147            No        80     NaN  \n",
       "5               50            No       155     NaN  \n",
       "6             1092            No       278     NaN  \n",
       "7               23            No       112     NaN  \n",
       "8              250            No       150     NaN  \n",
       "9              250            No       188   236.0  \n",
       "10             700            No       115     NaN  \n",
       "11             700            No       100     NaN  \n",
       "12             320            No       210     NaN  \n",
       "13              50            No       165     NaN  \n",
       "14              50            No       130     NaN  \n",
       "15              50            No       180     NaN  \n",
       "16            1900            No       163     NaN  \n",
       "17             369            No       177     NaN  \n",
       "18              42            No       260     NaN  \n",
       "19             536            No       111     NaN  "
      ]
     },
     "execution_count": 56,
     "metadata": {},
     "output_type": "execute_result"
    }
   ],
   "source": [
    "import pandas as pd\n",
    "import numpy as np\n",
    "filename=\"F:\\API_project\\Project_challenge-machine-learning-api-deployment\\preprocessing\\data_cleaned.csv\"\n",
    "df = pd.read_csv(filename)\n",
    "df.head(20)"
   ]
  },
  {
   "cell_type": "markdown",
   "metadata": {},
   "source": [
    "### Defining  and Selecting Variables"
   ]
  },
  {
   "cell_type": "code",
   "execution_count": 57,
   "metadata": {},
   "outputs": [],
   "source": [
    "df1 = df[df['Status'].str.contains('As new')==True]\n",
    "df2 = df[df['Status'].str.contains('Good')==True]\n",
    "df3 = df[df['Status'].str.contains('Just renovated')==True]\n",
    "\n",
    "df4 = df[df['Status'].str.contains('To be done up')==True]\n",
    "df5 = df[df['Status'].str.contains('To renovate')==True]\n",
    "df6 = df[df['Status'].str.contains('To restore')==True]"
   ]
  },
  {
   "cell_type": "code",
   "execution_count": 58,
   "metadata": {},
   "outputs": [
    {
     "name": "stdout",
     "output_type": "stream",
     "text": [
      "2151\n",
      "5207\n"
     ]
    }
   ],
   "source": [
    "df_m1 = pd.concat([df1,df3]) #Model1 dataframe\n",
    "df_m2 = pd.concat([df2,df4,df5,df6]) #Model2 dataframe\n",
    "print(len(df_m1))\n",
    "print(len(df_m2))"
   ]
  },
  {
   "cell_type": "code",
   "execution_count": 59,
   "metadata": {},
   "outputs": [
    {
     "data": {
      "text/html": [
       "<div>\n",
       "<style scoped>\n",
       "    .dataframe tbody tr th:only-of-type {\n",
       "        vertical-align: middle;\n",
       "    }\n",
       "\n",
       "    .dataframe tbody tr th {\n",
       "        vertical-align: top;\n",
       "    }\n",
       "\n",
       "    .dataframe thead th {\n",
       "        text-align: right;\n",
       "    }\n",
       "</style>\n",
       "<table border=\"1\" class=\"dataframe\">\n",
       "  <thead>\n",
       "    <tr style=\"text-align: right;\">\n",
       "      <th></th>\n",
       "      <th>Area</th>\n",
       "      <th>Number_of_Rooms</th>\n",
       "      <th>Garden surface</th>\n",
       "    </tr>\n",
       "  </thead>\n",
       "  <tbody>\n",
       "    <tr>\n",
       "      <th>0</th>\n",
       "      <td>188.0</td>\n",
       "      <td>3</td>\n",
       "      <td>330</td>\n",
       "    </tr>\n",
       "    <tr>\n",
       "      <th>1</th>\n",
       "      <td>164.0</td>\n",
       "      <td>3</td>\n",
       "      <td>341</td>\n",
       "    </tr>\n",
       "    <tr>\n",
       "      <th>2</th>\n",
       "      <td>134.0</td>\n",
       "      <td>2</td>\n",
       "      <td>300</td>\n",
       "    </tr>\n",
       "    <tr>\n",
       "      <th>3</th>\n",
       "      <td>198.0</td>\n",
       "      <td>5</td>\n",
       "      <td>147</td>\n",
       "    </tr>\n",
       "    <tr>\n",
       "      <th>4</th>\n",
       "      <td>80.0</td>\n",
       "      <td>2</td>\n",
       "      <td>147</td>\n",
       "    </tr>\n",
       "  </tbody>\n",
       "</table>\n",
       "</div>"
      ],
      "text/plain": [
       "    Area  Number_of_Rooms  Garden surface\n",
       "0  188.0                3             330\n",
       "1  164.0                3             341\n",
       "2  134.0                2             300\n",
       "3  198.0                5             147\n",
       "4   80.0                2             147"
      ]
     },
     "execution_count": 59,
     "metadata": {},
     "output_type": "execute_result"
    }
   ],
   "source": [
    "X_features_all = pd.concat([df.iloc[:,4:6], df.iloc[:,9]], axis=1) # Features based on all dataframe\n",
    "y_target_all = df.iloc[:,3]\n",
    "(X_features_all.head())\n",
    "#print(len(X_features_m1))"
   ]
  },
  {
   "cell_type": "code",
   "execution_count": 65,
   "metadata": {},
   "outputs": [
    {
     "name": "stdout",
     "output_type": "stream",
     "text": [
      "(2151, 3)\n"
     ]
    },
    {
     "data": {
      "text/html": [
       "<div>\n",
       "<style scoped>\n",
       "    .dataframe tbody tr th:only-of-type {\n",
       "        vertical-align: middle;\n",
       "    }\n",
       "\n",
       "    .dataframe tbody tr th {\n",
       "        vertical-align: top;\n",
       "    }\n",
       "\n",
       "    .dataframe thead th {\n",
       "        text-align: right;\n",
       "    }\n",
       "</style>\n",
       "<table border=\"1\" class=\"dataframe\">\n",
       "  <thead>\n",
       "    <tr style=\"text-align: right;\">\n",
       "      <th></th>\n",
       "      <th>Area</th>\n",
       "      <th>Number_of_Rooms</th>\n",
       "      <th>Garden surface</th>\n",
       "    </tr>\n",
       "  </thead>\n",
       "  <tbody>\n",
       "    <tr>\n",
       "      <th>0</th>\n",
       "      <td>188.0</td>\n",
       "      <td>3</td>\n",
       "      <td>330</td>\n",
       "    </tr>\n",
       "    <tr>\n",
       "      <th>1</th>\n",
       "      <td>164.0</td>\n",
       "      <td>3</td>\n",
       "      <td>341</td>\n",
       "    </tr>\n",
       "    <tr>\n",
       "      <th>13</th>\n",
       "      <td>165.0</td>\n",
       "      <td>3</td>\n",
       "      <td>50</td>\n",
       "    </tr>\n",
       "    <tr>\n",
       "      <th>27</th>\n",
       "      <td>210.0</td>\n",
       "      <td>4</td>\n",
       "      <td>1170</td>\n",
       "    </tr>\n",
       "    <tr>\n",
       "      <th>45</th>\n",
       "      <td>140.0</td>\n",
       "      <td>3</td>\n",
       "      <td>485</td>\n",
       "    </tr>\n",
       "  </tbody>\n",
       "</table>\n",
       "</div>"
      ],
      "text/plain": [
       "     Area  Number_of_Rooms  Garden surface\n",
       "0   188.0                3             330\n",
       "1   164.0                3             341\n",
       "13  165.0                3              50\n",
       "27  210.0                4            1170\n",
       "45  140.0                3             485"
      ]
     },
     "execution_count": 65,
     "metadata": {},
     "output_type": "execute_result"
    }
   ],
   "source": [
    "X_features_m1 = pd.concat([df_m1.iloc[:,4:6], df_m1.iloc[:,9]], axis=1)\n",
    "y_target_m1 = df_m1.iloc[:,3]\n",
    "(X_features_m1.head())\n",
    "print((X_features_m1.shape))\n",
    "(X_features_m1.head())\n"
   ]
  },
  {
   "cell_type": "code",
   "execution_count": 62,
   "metadata": {},
   "outputs": [
    {
     "name": "stdout",
     "output_type": "stream",
     "text": [
      "5207\n"
     ]
    }
   ],
   "source": [
    "X_features_m2 = pd.concat([df_m2.iloc[:,4:6], df_m2.iloc[:,9]], axis=1)\n",
    "y_target_m2 = df_m2.iloc[:,3]\n",
    "(X_features_m2.head())\n",
    "print(len(X_features_m2))"
   ]
  },
  {
   "cell_type": "markdown",
   "metadata": {},
   "source": [
    "### Split the dataset"
   ]
  },
  {
   "cell_type": "code",
   "execution_count": 67,
   "metadata": {},
   "outputs": [],
   "source": [
    "import sklearn\n",
    "import numpy as np\n",
    "from sklearn import datasets\n",
    "from sklearn. model_selection import train_test_split\n",
    "\n",
    "X_train, X_test, y_train, y_test = train_test_split(X_features_m1, y_target_m1, test_size=0.2, random_state=42)"
   ]
  },
  {
   "cell_type": "markdown",
   "metadata": {},
   "source": [
    "##  Load and fit the model (with Sklearn)_multilinear regression"
   ]
  },
  {
   "cell_type": "code",
   "execution_count": null,
   "metadata": {},
   "outputs": [],
   "source": [
    "# LinearRegression\n",
    "from sklearn.linear_model import LinearRegression\n",
    "\n",
    "# Choose your test size to split between training and testing sets:\n",
    "print(X_train.shape)\n",
    "regressor = LinearRegression()\n",
    "regressor.fit(X_train, y_train)\n",
    "print(y_test)\n",
    "print(X_test)"
   ]
  },
  {
   "cell_type": "markdown",
   "metadata": {},
   "source": [
    "### Correlation Coefficients"
   ]
  },
  {
   "cell_type": "code",
   "execution_count": 36,
   "metadata": {},
   "outputs": [
    {
     "name": "stdout",
     "output_type": "stream",
     "text": [
      "SpearmanrResult(correlation=0.588026921376499, pvalue=0.0)\n",
      "(0.5924821375262639, 0.0)\n"
     ]
    }
   ],
   "source": [
    "from sklearn.metrics import r2_score\n",
    "import scipy as sc\n",
    "y_pred = regressor.predict(X_train)\n",
    "\n",
    "\n",
    "print(sc.stats.spearmanr(y_train.T, y_pred.T))\n",
    "print(sc.stats.pearsonr(y_train.T, y_pred.T))\n",
    "#r2_score(y_train, y_pred)"
   ]
  },
  {
   "cell_type": "code",
   "execution_count": 37,
   "metadata": {},
   "outputs": [
    {
     "name": "stdout",
     "output_type": "stream",
     "text": [
      "(0.6234263489431493, 2.9160224918415724e-113)\n"
     ]
    }
   ],
   "source": [
    "from sklearn.metrics import r2_score\n",
    "y_pred = regressor.predict(X_test)\n",
    "\n",
    "print(sc.stats.pearsonr(y_test.T, y_pred.T))"
   ]
  },
  {
   "cell_type": "markdown",
   "metadata": {},
   "source": [
    "### Decsion Tree"
   ]
  },
  {
   "cell_type": "code",
   "execution_count": 38,
   "metadata": {},
   "outputs": [
    {
     "name": "stdout",
     "output_type": "stream",
     "text": [
      "SpearmanrResult(correlation=0.587557542780134, pvalue=0.0)\n",
      "SpearmanrResult(correlation=0.6017047406105008, pvalue=1.2669379853228565e-103)\n",
      "(0.6283634744276858, 1.4680409597747837e-115)\n"
     ]
    }
   ],
   "source": [
    "# DecsionTreeRegressor\n",
    "from sklearn import tree\n",
    "from sklearn.tree import DecisionTreeRegressor\n",
    "\n",
    "clf = DecisionTreeRegressor(max_depth=3)\n",
    "clf = clf.fit(X_train, y_train)\n",
    "yy = clf.predict(X_train)\n",
    "print(sc.stats.spearmanr(y_train.T, yy.T))\n",
    "\n",
    "y_pred_test_pipe = clf.predict(X_test)\n",
    "\n",
    "\n",
    "print(sc.stats.spearmanr(y_test, y_pred_test_pipe))\n",
    "print(sc.stats.pearsonr(y_test, y_pred_test_pipe))"
   ]
  },
  {
   "cell_type": "code",
   "execution_count": 39,
   "metadata": {},
   "outputs": [],
   "source": [
    "#scaler\n",
    "#from sklearn.preprocessing import StandardScaler  \n",
    "#scaler = StandardScaler()  \n",
    "# Don't cheat - fit only on training data\n",
    "#scaler.fit(X_train)  \n",
    "#X_train = scaler.transform(X_train)  \n",
    "# apply same transformation to test data\n",
    "#X_test = scaler.transform(X_test)  "
   ]
  },
  {
   "cell_type": "markdown",
   "metadata": {},
   "source": [
    "### Gradient Boost/Final Model"
   ]
  },
  {
   "cell_type": "code",
   "execution_count": 68,
   "metadata": {},
   "outputs": [
    {
     "name": "stdout",
     "output_type": "stream",
     "text": [
      "SpearmanrResult(correlation=0.6816177210914096, pvalue=3.5628760755651515e-60)\n",
      "(0.6935932319354474, 4.3035230538327733e-63)\n"
     ]
    }
   ],
   "source": [
    "# GradientBoostingRegressor\n",
    "import scipy as sc\n",
    "from sklearn.ensemble import GradientBoostingRegressor\n",
    "from sklearn.ensemble import StackingRegressor\n",
    "from sklearn.linear_model import RidgeCV, LassoCV\n",
    "from sklearn.neighbors import KNeighborsRegressor\n",
    "estimators = [('ridge', RidgeCV()), ('lasso', LassoCV(random_state=42)),('knr', KNeighborsRegressor(n_neighbors=20, metric='euclidean'))]\n",
    "\n",
    "final_estimator = GradientBoostingRegressor(n_estimators=25, subsample=0.5, min_samples_leaf=25, max_features=1,random_state=42)\n",
    "reg = StackingRegressor(estimators=estimators,final_estimator=final_estimator)\n",
    "\n",
    "reg = reg.fit(X_train, y_train)\n",
    "y_pred_test_pipe = reg.predict(X_test)\n",
    "\n",
    "\n",
    "print(sc.stats.spearmanr(y_test, y_pred_test_pipe))\n",
    "print(sc.stats.pearsonr(y_test, y_pred_test_pipe))"
   ]
  },
  {
   "cell_type": "code",
   "execution_count": 49,
   "metadata": {},
   "outputs": [],
   "source": [
    "import pickle\n",
    "pickle.dump(reg, open('model2.pkl','wb'))"
   ]
  },
  {
   "cell_type": "markdown",
   "metadata": {},
   "source": [
    "### polynomial"
   ]
  },
  {
   "cell_type": "code",
   "execution_count": 50,
   "metadata": {},
   "outputs": [],
   "source": [
    "degree = 5"
   ]
  },
  {
   "cell_type": "code",
   "execution_count": 51,
   "metadata": {},
   "outputs": [],
   "source": [
    "#polynomial\n",
    "from sklearn.preprocessing import StandardScaler, PolynomialFeatures\n",
    "from sklearn.pipeline import Pipeline\n",
    "from sklearn.linear_model import Ridge\n",
    "\n",
    "# define the pipeline\n",
    "pipe = Pipeline(steps=[\n",
    "    ('scaler', StandardScaler()),\n",
    "    ('preprocessor', PolynomialFeatures(degree=degree, include_bias=True)),\n",
    "    ('estimator', Ridge(alpha=1))\n",
    "])\n"
   ]
  },
  {
   "cell_type": "code",
   "execution_count": 52,
   "metadata": {},
   "outputs": [
    {
     "name": "stdout",
     "output_type": "stream",
     "text": [
      "SpearmanrResult(correlation=0.6007256967698125, pvalue=0.0)\n",
      "(0.6397829559981205, 0.0)\n"
     ]
    }
   ],
   "source": [
    "import scipy as sc\n",
    "pipe.fit(X_train, y_train)\n",
    "y_pred_train_pipe = pipe.predict(X_train)\n",
    "\n",
    "print(sc.stats.spearmanr(y_train.T, y_pred_train_pipe.T))\n",
    "print(sc.stats.pearsonr(y_train.T, y_pred_train_pipe.T))"
   ]
  },
  {
   "cell_type": "code",
   "execution_count": null,
   "metadata": {},
   "outputs": [],
   "source": [
    "\n",
    "y_pred_test_pipe = pipe.predict(X_test)\n",
    "\n",
    "\n",
    "print(sc.stats.spearmanr(y_test.T, y_pred_test_pipe.T))\n",
    "print(sc.stats.pearsonr(y_test.T, y_pred_test_pipe.T))"
   ]
  },
  {
   "cell_type": "markdown",
   "metadata": {},
   "source": [
    "### Scatter plot"
   ]
  },
  {
   "cell_type": "code",
   "execution_count": 69,
   "metadata": {},
   "outputs": [
    {
     "data": {
      "image/png": "[encoded data removed]",
      "text/plain": [
       "<Figure size 432x288 with 1 Axes>"
      ]
     },
     "metadata": {
      "needs_background": "light"
     },
     "output_type": "display_data"
    }
   ],
   "source": [
    "import matplotlib.pyplot as plt\n",
    "ax = plt.gca()\n",
    "\n",
    "plt.scatter(y_test, y_pred_test_pipe, color=\"blue\")\n",
    "#plt.plot(predictions)\n",
    "\n",
    "#plt.ylim([-1, 1000000])\n",
    "plt.show()"
   ]
  }
 ],
 "metadata": {
  "interpreter": {
   "hash": "f92ba9c63fced51b16a9d8a2a7d17d868c393e230cb0c508c3b7f43d40196448"
  },
  "kernelspec": {
   "display_name": "Python 3.10.2 64-bit",
   "language": "python",
   "name": "python3"
  },
  "language_info": {
   "codemirror_mode": {
    "name": "ipython",
    "version": 3
   },
   "file_extension": ".py",
   "mimetype": "text/x-python",
   "name": "python",
   "nbconvert_exporter": "python",
   "pygments_lexer": "ipython3",
   "version": "3.10.2"
  },
  "orig_nbformat": 4
 },
 "nbformat": 4,
 "nbformat_minor": 2
}
