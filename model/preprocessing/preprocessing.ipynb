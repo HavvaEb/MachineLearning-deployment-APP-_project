{
 "cells": [
  {
   "cell_type": "code",
   "execution_count": 669,
   "metadata": {},
   "outputs": [
    {
     "data": {
      "text/html": [
       "<div>\n",
       "<style scoped>\n",
       "    .dataframe tbody tr th:only-of-type {\n",
       "        vertical-align: middle;\n",
       "    }\n",
       "\n",
       "    .dataframe tbody tr th {\n",
       "        vertical-align: top;\n",
       "    }\n",
       "\n",
       "    .dataframe thead th {\n",
       "        text-align: right;\n",
       "    }\n",
       "</style>\n",
       "<table border=\"1\" class=\"dataframe\">\n",
       "  <thead>\n",
       "    <tr style=\"text-align: right;\">\n",
       "      <th></th>\n",
       "      <th>Title</th>\n",
       "      <th>Location</th>\n",
       "      <th>Price</th>\n",
       "      <th>Area</th>\n",
       "      <th>Number_of_Rooms</th>\n",
       "      <th>Furnished</th>\n",
       "      <th>Kitchen type</th>\n",
       "      <th>Status</th>\n",
       "      <th>Garden surface</th>\n",
       "      <th>Swimming Pool</th>\n",
       "    </tr>\n",
       "  </thead>\n",
       "  <tbody>\n",
       "    <tr>\n",
       "      <th>0</th>\n",
       "      <td>Villa for sale</td>\n",
       "      <td>Prins Karellaan 13</td>\n",
       "      <td>€ 1,650</td>\n",
       "      <td>4 bedrooms | 499 m²</td>\n",
       "      <td>4 bedrooms</td>\n",
       "      <td>No</td>\n",
       "      <td>Hyper equipped</td>\n",
       "      <td>As new</td>\n",
       "      <td>450 m²</td>\n",
       "      <td>No</td>\n",
       "    </tr>\n",
       "    <tr>\n",
       "      <th>1</th>\n",
       "      <td>House for sale</td>\n",
       "      <td>Lembergsesteenweg 67 Box lot 2</td>\n",
       "      <td>€ 419,000</td>\n",
       "      <td>3 bedrooms | 188 m²</td>\n",
       "      <td>3 bedrooms</td>\n",
       "      <td>No</td>\n",
       "      <td>Hyper equipped</td>\n",
       "      <td>As new</td>\n",
       "      <td>330 m²</td>\n",
       "      <td>No</td>\n",
       "    </tr>\n",
       "    <tr>\n",
       "      <th>2</th>\n",
       "      <td>House for sale</td>\n",
       "      <td>Lembergsesteenweg 67 Box lot 1</td>\n",
       "      <td>€ 459,000</td>\n",
       "      <td>3 bedrooms | 164 m²</td>\n",
       "      <td>3 bedrooms</td>\n",
       "      <td>No</td>\n",
       "      <td>Hyper equipped</td>\n",
       "      <td>As new</td>\n",
       "      <td>341 m²</td>\n",
       "      <td>No</td>\n",
       "    </tr>\n",
       "    <tr>\n",
       "      <th>3</th>\n",
       "      <td>House for sale</td>\n",
       "      <td>Ruelle Hierby 17</td>\n",
       "      <td>€ 149,000</td>\n",
       "      <td>2 bedrooms | 134 m²</td>\n",
       "      <td>2 bedrooms</td>\n",
       "      <td>No</td>\n",
       "      <td>Installed</td>\n",
       "      <td>Good</td>\n",
       "      <td>300 m²</td>\n",
       "      <td>No</td>\n",
       "    </tr>\n",
       "    <tr>\n",
       "      <th>4</th>\n",
       "      <td>House for sale</td>\n",
       "      <td>Rue Petite Voie 176</td>\n",
       "      <td>€ 149,000</td>\n",
       "      <td>5 bedrooms | 198 m²</td>\n",
       "      <td>5 bedrooms</td>\n",
       "      <td>No</td>\n",
       "      <td>Semi equipped</td>\n",
       "      <td>To be done up</td>\n",
       "      <td>147 m²</td>\n",
       "      <td>No</td>\n",
       "    </tr>\n",
       "  </tbody>\n",
       "</table>\n",
       "</div>"
      ],
      "text/plain": [
       "            Title                        Location      Price  \\\n",
       "0  Villa for sale              Prins Karellaan 13    € 1,650   \n",
       "1  House for sale  Lembergsesteenweg 67 Box lot 2  € 419,000   \n",
       "2  House for sale  Lembergsesteenweg 67 Box lot 1  € 459,000   \n",
       "3  House for sale                Ruelle Hierby 17  € 149,000   \n",
       "4  House for sale             Rue Petite Voie 176  € 149,000   \n",
       "\n",
       "                   Area Number_of_Rooms Furnished    Kitchen type  \\\n",
       "0  4 bedrooms | 499 m²       4 bedrooms        No  Hyper equipped   \n",
       "1  3 bedrooms | 188 m²       3 bedrooms        No  Hyper equipped   \n",
       "2  3 bedrooms | 164 m²       3 bedrooms        No  Hyper equipped   \n",
       "3  2 bedrooms | 134 m²       2 bedrooms        No       Installed   \n",
       "4  5 bedrooms | 198 m²       5 bedrooms        No   Semi equipped   \n",
       "\n",
       "          Status Garden surface Swimming Pool  \n",
       "0         As new        450 m²             No  \n",
       "1         As new        330 m²             No  \n",
       "2         As new        341 m²             No  \n",
       "3           Good        300 m²             No  \n",
       "4  To be done up        147 m²             No  "
      ]
     },
     "execution_count": 669,
     "metadata": {},
     "output_type": "execute_result"
    }
   ],
   "source": [
    "import pandas as pd\n",
    "import numpy as np\n",
    "filename=\"F:\\API_project\\Project_challenge-machine-learning-api-deployment\\housing4.1csv.csv\"\n",
    "df = pd.read_csv(filename)\n",
    "df.head(5)"
   ]
  },
  {
   "cell_type": "code",
   "execution_count": 670,
   "metadata": {},
   "outputs": [
    {
     "name": "stdout",
     "output_type": "stream",
     "text": [
      "There are 10187 rows of data\n"
     ]
    }
   ],
   "source": [
    "print(\"There are {} rows of data\".format(len(df)))"
   ]
  },
  {
   "cell_type": "code",
   "execution_count": 671,
   "metadata": {},
   "outputs": [
    {
     "name": "stdout",
     "output_type": "stream",
     "text": [
      "[ 4  3  2  5  6  7  1  8 10 17 94 13 11 12  9 14 15 16 20 22 23 28 21 18\n",
      " 30 50 39 36]\n"
     ]
    }
   ],
   "source": [
    "df['Number_of_Rooms'] = df[\"Number_of_Rooms\"].str.replace(\"bedrooms\",\"\")\n",
    "df['Number_of_Rooms'] = df[\"Number_of_Rooms\"].str.replace(\"bedroom\",\"\")\n",
    "df['Number_of_Rooms'] = df[\"Number_of_Rooms\"].str.replace(\"bathrooms\",\"\")\n",
    "df['Number_of_Rooms'] = df[\"Number_of_Rooms\"].str.replace(\"bathroom\",\"\")\n",
    "df = df[df['Number_of_Rooms'].str.contains('sq')==False]\n",
    "df['Number_of_Rooms'] = df['Number_of_Rooms'].str.split(\"-\", expand=True)[0]\n",
    "df['Number_of_Rooms'] = pd.to_numeric(df['Number_of_Rooms'])\n",
    "df.head()\n",
    "a = df['Number_of_Rooms'].unique() \n",
    "print(a)\n"
   ]
  },
  {
   "cell_type": "code",
   "execution_count": 672,
   "metadata": {},
   "outputs": [
    {
     "name": "stdout",
     "output_type": "stream",
     "text": [
      "There are 10101 rows of data\n"
     ]
    }
   ],
   "source": [
    "print(\"There are {} rows of data\".format(len(df)))"
   ]
  },
  {
   "cell_type": "code",
   "execution_count": 673,
   "metadata": {},
   "outputs": [
    {
     "data": {
      "text/html": [
       "<div>\n",
       "<style scoped>\n",
       "    .dataframe tbody tr th:only-of-type {\n",
       "        vertical-align: middle;\n",
       "    }\n",
       "\n",
       "    .dataframe tbody tr th {\n",
       "        vertical-align: top;\n",
       "    }\n",
       "\n",
       "    .dataframe thead th {\n",
       "        text-align: right;\n",
       "    }\n",
       "</style>\n",
       "<table border=\"1\" class=\"dataframe\">\n",
       "  <thead>\n",
       "    <tr style=\"text-align: right;\">\n",
       "      <th></th>\n",
       "      <th>Title</th>\n",
       "      <th>Location</th>\n",
       "      <th>Price</th>\n",
       "      <th>Area</th>\n",
       "      <th>Number_of_Rooms</th>\n",
       "      <th>Furnished</th>\n",
       "      <th>Kitchen type</th>\n",
       "      <th>Status</th>\n",
       "      <th>Garden surface</th>\n",
       "      <th>Swimming Pool</th>\n",
       "    </tr>\n",
       "  </thead>\n",
       "  <tbody>\n",
       "    <tr>\n",
       "      <th>0</th>\n",
       "      <td>Villa for sale</td>\n",
       "      <td>Prins Karellaan 13</td>\n",
       "      <td>1650</td>\n",
       "      <td>4 bedrooms | 499 m²</td>\n",
       "      <td>4</td>\n",
       "      <td>No</td>\n",
       "      <td>Hyper equipped</td>\n",
       "      <td>As new</td>\n",
       "      <td>450 m²</td>\n",
       "      <td>No</td>\n",
       "    </tr>\n",
       "    <tr>\n",
       "      <th>1</th>\n",
       "      <td>House for sale</td>\n",
       "      <td>Lembergsesteenweg 67 Box lot 2</td>\n",
       "      <td>419000</td>\n",
       "      <td>3 bedrooms | 188 m²</td>\n",
       "      <td>3</td>\n",
       "      <td>No</td>\n",
       "      <td>Hyper equipped</td>\n",
       "      <td>As new</td>\n",
       "      <td>330 m²</td>\n",
       "      <td>No</td>\n",
       "    </tr>\n",
       "    <tr>\n",
       "      <th>2</th>\n",
       "      <td>House for sale</td>\n",
       "      <td>Lembergsesteenweg 67 Box lot 1</td>\n",
       "      <td>459000</td>\n",
       "      <td>3 bedrooms | 164 m²</td>\n",
       "      <td>3</td>\n",
       "      <td>No</td>\n",
       "      <td>Hyper equipped</td>\n",
       "      <td>As new</td>\n",
       "      <td>341 m²</td>\n",
       "      <td>No</td>\n",
       "    </tr>\n",
       "    <tr>\n",
       "      <th>3</th>\n",
       "      <td>House for sale</td>\n",
       "      <td>Ruelle Hierby 17</td>\n",
       "      <td>149000</td>\n",
       "      <td>2 bedrooms | 134 m²</td>\n",
       "      <td>2</td>\n",
       "      <td>No</td>\n",
       "      <td>Installed</td>\n",
       "      <td>Good</td>\n",
       "      <td>300 m²</td>\n",
       "      <td>No</td>\n",
       "    </tr>\n",
       "    <tr>\n",
       "      <th>4</th>\n",
       "      <td>House for sale</td>\n",
       "      <td>Rue Petite Voie 176</td>\n",
       "      <td>149000</td>\n",
       "      <td>5 bedrooms | 198 m²</td>\n",
       "      <td>5</td>\n",
       "      <td>No</td>\n",
       "      <td>Semi equipped</td>\n",
       "      <td>To be done up</td>\n",
       "      <td>147 m²</td>\n",
       "      <td>No</td>\n",
       "    </tr>\n",
       "  </tbody>\n",
       "</table>\n",
       "</div>"
      ],
      "text/plain": [
       "            Title                        Location   Price  \\\n",
       "0  Villa for sale              Prins Karellaan 13    1650   \n",
       "1  House for sale  Lembergsesteenweg 67 Box lot 2  419000   \n",
       "2  House for sale  Lembergsesteenweg 67 Box lot 1  459000   \n",
       "3  House for sale                Ruelle Hierby 17  149000   \n",
       "4  House for sale             Rue Petite Voie 176  149000   \n",
       "\n",
       "                   Area  Number_of_Rooms Furnished    Kitchen type  \\\n",
       "0  4 bedrooms | 499 m²                 4        No  Hyper equipped   \n",
       "1  3 bedrooms | 188 m²                 3        No  Hyper equipped   \n",
       "2  3 bedrooms | 164 m²                 3        No  Hyper equipped   \n",
       "3  2 bedrooms | 134 m²                 2        No       Installed   \n",
       "4  5 bedrooms | 198 m²                 5        No   Semi equipped   \n",
       "\n",
       "          Status Garden surface Swimming Pool  \n",
       "0         As new        450 m²             No  \n",
       "1         As new        330 m²             No  \n",
       "2         As new        341 m²             No  \n",
       "3           Good        300 m²             No  \n",
       "4  To be done up        147 m²             No  "
      ]
     },
     "execution_count": 673,
     "metadata": {},
     "output_type": "execute_result"
    }
   ],
   "source": [
    "#cleaning Price\n",
    "df['Price'] = df[\"Price\"].map(lambda x: str(x)[1:])\n",
    "df['Price']=df['Price'].str.replace(',','')\n",
    "df['Price'] = pd.to_numeric(df['Price'])\n",
    "df.head()"
   ]
  },
  {
   "cell_type": "code",
   "execution_count": 674,
   "metadata": {},
   "outputs": [
    {
     "name": "stdout",
     "output_type": "stream",
     "text": [
      "[  1650 419000 459000 ... 357260 459990 667000]\n"
     ]
    }
   ],
   "source": [
    "a = df['Price'].unique() \n",
    "print(a)"
   ]
  },
  {
   "cell_type": "code",
   "execution_count": 675,
   "metadata": {},
   "outputs": [
    {
     "data": {
      "text/html": [
       "<div>\n",
       "<style scoped>\n",
       "    .dataframe tbody tr th:only-of-type {\n",
       "        vertical-align: middle;\n",
       "    }\n",
       "\n",
       "    .dataframe tbody tr th {\n",
       "        vertical-align: top;\n",
       "    }\n",
       "\n",
       "    .dataframe thead th {\n",
       "        text-align: right;\n",
       "    }\n",
       "</style>\n",
       "<table border=\"1\" class=\"dataframe\">\n",
       "  <thead>\n",
       "    <tr style=\"text-align: right;\">\n",
       "      <th></th>\n",
       "      <th>Title</th>\n",
       "      <th>Location</th>\n",
       "      <th>Price</th>\n",
       "      <th>Area</th>\n",
       "      <th>Number_of_Rooms</th>\n",
       "      <th>Furnished</th>\n",
       "      <th>Kitchen type</th>\n",
       "      <th>Status</th>\n",
       "      <th>Garden surface</th>\n",
       "      <th>Swimming Pool</th>\n",
       "    </tr>\n",
       "  </thead>\n",
       "  <tbody>\n",
       "    <tr>\n",
       "      <th>0</th>\n",
       "      <td>Villa for sale</td>\n",
       "      <td>Prins Karellaan 13</td>\n",
       "      <td>1650</td>\n",
       "      <td>499</td>\n",
       "      <td>4</td>\n",
       "      <td>No</td>\n",
       "      <td>Hyper equipped</td>\n",
       "      <td>As new</td>\n",
       "      <td>450 m²</td>\n",
       "      <td>No</td>\n",
       "    </tr>\n",
       "    <tr>\n",
       "      <th>1</th>\n",
       "      <td>House for sale</td>\n",
       "      <td>Lembergsesteenweg 67 Box lot 2</td>\n",
       "      <td>419000</td>\n",
       "      <td>188</td>\n",
       "      <td>3</td>\n",
       "      <td>No</td>\n",
       "      <td>Hyper equipped</td>\n",
       "      <td>As new</td>\n",
       "      <td>330 m²</td>\n",
       "      <td>No</td>\n",
       "    </tr>\n",
       "    <tr>\n",
       "      <th>2</th>\n",
       "      <td>House for sale</td>\n",
       "      <td>Lembergsesteenweg 67 Box lot 1</td>\n",
       "      <td>459000</td>\n",
       "      <td>164</td>\n",
       "      <td>3</td>\n",
       "      <td>No</td>\n",
       "      <td>Hyper equipped</td>\n",
       "      <td>As new</td>\n",
       "      <td>341 m²</td>\n",
       "      <td>No</td>\n",
       "    </tr>\n",
       "    <tr>\n",
       "      <th>3</th>\n",
       "      <td>House for sale</td>\n",
       "      <td>Ruelle Hierby 17</td>\n",
       "      <td>149000</td>\n",
       "      <td>134</td>\n",
       "      <td>2</td>\n",
       "      <td>No</td>\n",
       "      <td>Installed</td>\n",
       "      <td>Good</td>\n",
       "      <td>300 m²</td>\n",
       "      <td>No</td>\n",
       "    </tr>\n",
       "    <tr>\n",
       "      <th>4</th>\n",
       "      <td>House for sale</td>\n",
       "      <td>Rue Petite Voie 176</td>\n",
       "      <td>149000</td>\n",
       "      <td>198</td>\n",
       "      <td>5</td>\n",
       "      <td>No</td>\n",
       "      <td>Semi equipped</td>\n",
       "      <td>To be done up</td>\n",
       "      <td>147 m²</td>\n",
       "      <td>No</td>\n",
       "    </tr>\n",
       "  </tbody>\n",
       "</table>\n",
       "</div>"
      ],
      "text/plain": [
       "            Title                        Location   Price   Area  \\\n",
       "0  Villa for sale              Prins Karellaan 13    1650   499    \n",
       "1  House for sale  Lembergsesteenweg 67 Box lot 2  419000   188    \n",
       "2  House for sale  Lembergsesteenweg 67 Box lot 1  459000   164    \n",
       "3  House for sale                Ruelle Hierby 17  149000   134    \n",
       "4  House for sale             Rue Petite Voie 176  149000   198    \n",
       "\n",
       "   Number_of_Rooms Furnished    Kitchen type         Status Garden surface  \\\n",
       "0                4        No  Hyper equipped         As new        450 m²    \n",
       "1                3        No  Hyper equipped         As new        330 m²    \n",
       "2                3        No  Hyper equipped         As new        341 m²    \n",
       "3                2        No       Installed           Good        300 m²    \n",
       "4                5        No   Semi equipped  To be done up        147 m²    \n",
       "\n",
       "  Swimming Pool  \n",
       "0            No  \n",
       "1            No  \n",
       "2            No  \n",
       "3            No  \n",
       "4            No  "
      ]
     },
     "execution_count": 675,
     "metadata": {},
     "output_type": "execute_result"
    }
   ],
   "source": [
    "# cleaning Area\n",
    "df.Area = df.Area.str.split('|').str.get(-1)\n",
    "df['Area'] = df[\"Area\"].map(lambda x: str(x)[:-3])\n",
    "df['Area']=df['Area'].str.replace(',','')\n",
    "df = df[df['Area'].str.contains('bed')==False]\n",
    "df = df[df['Area'].str.contains('N')==False]\n",
    "df.head()"
   ]
  },
  {
   "cell_type": "code",
   "execution_count": 676,
   "metadata": {},
   "outputs": [
    {
     "name": "stdout",
     "output_type": "stream",
     "text": [
      "There are 9149 rows of data\n"
     ]
    }
   ],
   "source": [
    "print(\"There are {} rows of data\".format(len(df)))"
   ]
  },
  {
   "cell_type": "code",
   "execution_count": 677,
   "metadata": {},
   "outputs": [],
   "source": [
    "df['AreaFrom'] = df['Area'].str.split(\"-\", expand=True)[0]\n",
    "df['AreaTo'] = df['Area'].str.split(\"-\", expand=True)[1]\n",
    "df['AreaFrom'] = pd.to_numeric(df['AreaFrom'])\n",
    "df['AreaTo'] = pd.to_numeric(df['AreaTo'])\n",
    "df['Area'] = df[['AreaFrom', 'AreaTo']].mean(axis=1)"
   ]
  },
  {
   "cell_type": "code",
   "execution_count": null,
   "metadata": {},
   "outputs": [],
   "source": [
    "a = df['Area'].unique() \n",
    "#a = df['Area'].mean() \n",
    "print(a)"
   ]
  },
  {
   "cell_type": "code",
   "execution_count": 679,
   "metadata": {},
   "outputs": [
    {
     "data": {
      "text/html": [
       "<div>\n",
       "<style scoped>\n",
       "    .dataframe tbody tr th:only-of-type {\n",
       "        vertical-align: middle;\n",
       "    }\n",
       "\n",
       "    .dataframe tbody tr th {\n",
       "        vertical-align: top;\n",
       "    }\n",
       "\n",
       "    .dataframe thead th {\n",
       "        text-align: right;\n",
       "    }\n",
       "</style>\n",
       "<table border=\"1\" class=\"dataframe\">\n",
       "  <thead>\n",
       "    <tr style=\"text-align: right;\">\n",
       "      <th></th>\n",
       "      <th>Title</th>\n",
       "      <th>Location</th>\n",
       "      <th>Price</th>\n",
       "      <th>Area</th>\n",
       "      <th>Number_of_Rooms</th>\n",
       "      <th>Furnished</th>\n",
       "      <th>Kitchen type</th>\n",
       "      <th>Status</th>\n",
       "      <th>Garden surface</th>\n",
       "      <th>Swimming Pool</th>\n",
       "      <th>AreaFrom</th>\n",
       "      <th>AreaTo</th>\n",
       "    </tr>\n",
       "  </thead>\n",
       "  <tbody>\n",
       "    <tr>\n",
       "      <th>0</th>\n",
       "      <td>Villa for sale</td>\n",
       "      <td>Prins Karellaan 13</td>\n",
       "      <td>1650</td>\n",
       "      <td>499.0</td>\n",
       "      <td>4</td>\n",
       "      <td>No</td>\n",
       "      <td>Hyper equipped</td>\n",
       "      <td>As new</td>\n",
       "      <td>450</td>\n",
       "      <td>No</td>\n",
       "      <td>499</td>\n",
       "      <td>NaN</td>\n",
       "    </tr>\n",
       "    <tr>\n",
       "      <th>1</th>\n",
       "      <td>House for sale</td>\n",
       "      <td>Lembergsesteenweg 67 Box lot 2</td>\n",
       "      <td>419000</td>\n",
       "      <td>188.0</td>\n",
       "      <td>3</td>\n",
       "      <td>No</td>\n",
       "      <td>Hyper equipped</td>\n",
       "      <td>As new</td>\n",
       "      <td>330</td>\n",
       "      <td>No</td>\n",
       "      <td>188</td>\n",
       "      <td>NaN</td>\n",
       "    </tr>\n",
       "    <tr>\n",
       "      <th>2</th>\n",
       "      <td>House for sale</td>\n",
       "      <td>Lembergsesteenweg 67 Box lot 1</td>\n",
       "      <td>459000</td>\n",
       "      <td>164.0</td>\n",
       "      <td>3</td>\n",
       "      <td>No</td>\n",
       "      <td>Hyper equipped</td>\n",
       "      <td>As new</td>\n",
       "      <td>341</td>\n",
       "      <td>No</td>\n",
       "      <td>164</td>\n",
       "      <td>NaN</td>\n",
       "    </tr>\n",
       "    <tr>\n",
       "      <th>3</th>\n",
       "      <td>House for sale</td>\n",
       "      <td>Ruelle Hierby 17</td>\n",
       "      <td>149000</td>\n",
       "      <td>134.0</td>\n",
       "      <td>2</td>\n",
       "      <td>No</td>\n",
       "      <td>Installed</td>\n",
       "      <td>Good</td>\n",
       "      <td>300</td>\n",
       "      <td>No</td>\n",
       "      <td>134</td>\n",
       "      <td>NaN</td>\n",
       "    </tr>\n",
       "    <tr>\n",
       "      <th>4</th>\n",
       "      <td>House for sale</td>\n",
       "      <td>Rue Petite Voie 176</td>\n",
       "      <td>149000</td>\n",
       "      <td>198.0</td>\n",
       "      <td>5</td>\n",
       "      <td>No</td>\n",
       "      <td>Semi equipped</td>\n",
       "      <td>To be done up</td>\n",
       "      <td>147</td>\n",
       "      <td>No</td>\n",
       "      <td>198</td>\n",
       "      <td>NaN</td>\n",
       "    </tr>\n",
       "  </tbody>\n",
       "</table>\n",
       "</div>"
      ],
      "text/plain": [
       "            Title                        Location   Price   Area  \\\n",
       "0  Villa for sale              Prins Karellaan 13    1650  499.0   \n",
       "1  House for sale  Lembergsesteenweg 67 Box lot 2  419000  188.0   \n",
       "2  House for sale  Lembergsesteenweg 67 Box lot 1  459000  164.0   \n",
       "3  House for sale                Ruelle Hierby 17  149000  134.0   \n",
       "4  House for sale             Rue Petite Voie 176  149000  198.0   \n",
       "\n",
       "   Number_of_Rooms Furnished    Kitchen type         Status Garden surface  \\\n",
       "0                4        No  Hyper equipped         As new           450    \n",
       "1                3        No  Hyper equipped         As new           330    \n",
       "2                3        No  Hyper equipped         As new           341    \n",
       "3                2        No       Installed           Good           300    \n",
       "4                5        No   Semi equipped  To be done up           147    \n",
       "\n",
       "  Swimming Pool  AreaFrom  AreaTo  \n",
       "0            No       499     NaN  \n",
       "1            No       188     NaN  \n",
       "2            No       164     NaN  \n",
       "3            No       134     NaN  \n",
       "4            No       198     NaN  "
      ]
     },
     "execution_count": 679,
     "metadata": {},
     "output_type": "execute_result"
    }
   ],
   "source": [
    "# Garden surface Cleaning\n",
    "df['Garden surface'] = df[\"Garden surface\"].map(lambda x: str(x)[:-3])\n",
    "df.head()"
   ]
  },
  {
   "cell_type": "code",
   "execution_count": 680,
   "metadata": {},
   "outputs": [
    {
     "data": {
      "text/html": [
       "<div>\n",
       "<style scoped>\n",
       "    .dataframe tbody tr th:only-of-type {\n",
       "        vertical-align: middle;\n",
       "    }\n",
       "\n",
       "    .dataframe tbody tr th {\n",
       "        vertical-align: top;\n",
       "    }\n",
       "\n",
       "    .dataframe thead th {\n",
       "        text-align: right;\n",
       "    }\n",
       "</style>\n",
       "<table border=\"1\" class=\"dataframe\">\n",
       "  <thead>\n",
       "    <tr style=\"text-align: right;\">\n",
       "      <th></th>\n",
       "      <th>Title</th>\n",
       "      <th>Location</th>\n",
       "      <th>Price</th>\n",
       "      <th>Area</th>\n",
       "      <th>Number_of_Rooms</th>\n",
       "      <th>Furnished</th>\n",
       "      <th>Kitchen type</th>\n",
       "      <th>Status</th>\n",
       "      <th>Garden surface</th>\n",
       "      <th>Swimming Pool</th>\n",
       "      <th>AreaFrom</th>\n",
       "      <th>AreaTo</th>\n",
       "    </tr>\n",
       "  </thead>\n",
       "  <tbody>\n",
       "    <tr>\n",
       "      <th>0</th>\n",
       "      <td>Villa for sale</td>\n",
       "      <td>Prins Karellaan 13</td>\n",
       "      <td>1650</td>\n",
       "      <td>499.0</td>\n",
       "      <td>4</td>\n",
       "      <td>No</td>\n",
       "      <td>Hyper equipped</td>\n",
       "      <td>As new</td>\n",
       "      <td>450</td>\n",
       "      <td>No</td>\n",
       "      <td>499</td>\n",
       "      <td>NaN</td>\n",
       "    </tr>\n",
       "    <tr>\n",
       "      <th>1</th>\n",
       "      <td>House for sale</td>\n",
       "      <td>Lembergsesteenweg 67 Box lot 2</td>\n",
       "      <td>419000</td>\n",
       "      <td>188.0</td>\n",
       "      <td>3</td>\n",
       "      <td>No</td>\n",
       "      <td>Hyper equipped</td>\n",
       "      <td>As new</td>\n",
       "      <td>330</td>\n",
       "      <td>No</td>\n",
       "      <td>188</td>\n",
       "      <td>NaN</td>\n",
       "    </tr>\n",
       "    <tr>\n",
       "      <th>2</th>\n",
       "      <td>House for sale</td>\n",
       "      <td>Lembergsesteenweg 67 Box lot 1</td>\n",
       "      <td>459000</td>\n",
       "      <td>164.0</td>\n",
       "      <td>3</td>\n",
       "      <td>No</td>\n",
       "      <td>Hyper equipped</td>\n",
       "      <td>As new</td>\n",
       "      <td>341</td>\n",
       "      <td>No</td>\n",
       "      <td>164</td>\n",
       "      <td>NaN</td>\n",
       "    </tr>\n",
       "    <tr>\n",
       "      <th>3</th>\n",
       "      <td>House for sale</td>\n",
       "      <td>Ruelle Hierby 17</td>\n",
       "      <td>149000</td>\n",
       "      <td>134.0</td>\n",
       "      <td>2</td>\n",
       "      <td>No</td>\n",
       "      <td>Installed</td>\n",
       "      <td>Good</td>\n",
       "      <td>300</td>\n",
       "      <td>No</td>\n",
       "      <td>134</td>\n",
       "      <td>NaN</td>\n",
       "    </tr>\n",
       "    <tr>\n",
       "      <th>4</th>\n",
       "      <td>House for sale</td>\n",
       "      <td>Rue Petite Voie 176</td>\n",
       "      <td>149000</td>\n",
       "      <td>198.0</td>\n",
       "      <td>5</td>\n",
       "      <td>No</td>\n",
       "      <td>Semi equipped</td>\n",
       "      <td>To be done up</td>\n",
       "      <td>147</td>\n",
       "      <td>No</td>\n",
       "      <td>198</td>\n",
       "      <td>NaN</td>\n",
       "    </tr>\n",
       "  </tbody>\n",
       "</table>\n",
       "</div>"
      ],
      "text/plain": [
       "            Title                        Location   Price   Area  \\\n",
       "0  Villa for sale              Prins Karellaan 13    1650  499.0   \n",
       "1  House for sale  Lembergsesteenweg 67 Box lot 2  419000  188.0   \n",
       "2  House for sale  Lembergsesteenweg 67 Box lot 1  459000  164.0   \n",
       "3  House for sale                Ruelle Hierby 17  149000  134.0   \n",
       "4  House for sale             Rue Petite Voie 176  149000  198.0   \n",
       "\n",
       "   Number_of_Rooms Furnished    Kitchen type         Status  Garden surface  \\\n",
       "0                4        No  Hyper equipped         As new             450   \n",
       "1                3        No  Hyper equipped         As new             330   \n",
       "2                3        No  Hyper equipped         As new             341   \n",
       "3                2        No       Installed           Good             300   \n",
       "4                5        No   Semi equipped  To be done up             147   \n",
       "\n",
       "  Swimming Pool  AreaFrom  AreaTo  \n",
       "0            No       499     NaN  \n",
       "1            No       188     NaN  \n",
       "2            No       164     NaN  \n",
       "3            No       134     NaN  \n",
       "4            No       198     NaN  "
      ]
     },
     "execution_count": 680,
     "metadata": {},
     "output_type": "execute_result"
    }
   ],
   "source": [
    "\n",
    "df['Garden surface']=df['Garden surface'].str.replace(',','')\n",
    "df = df[df['Garden surface'].str.contains('sq')==False]\n",
    "df['Garden surface'] = pd.to_numeric(df['Garden surface'])\n",
    "df.head()"
   ]
  },
  {
   "cell_type": "code",
   "execution_count": null,
   "metadata": {},
   "outputs": [],
   "source": [
    "a = df['Garden surface'].unique() \n",
    "#a = df['Area'].mean() \n",
    "print(a)"
   ]
  },
  {
   "cell_type": "code",
   "execution_count": 682,
   "metadata": {},
   "outputs": [
    {
     "name": "stdout",
     "output_type": "stream",
     "text": [
      "There are 9034 rows of data\n"
     ]
    }
   ],
   "source": [
    "print(\"There are {} rows of data\".format(len(df)))"
   ]
  },
  {
   "cell_type": "code",
   "execution_count": 655,
   "metadata": {},
   "outputs": [
    {
     "name": "stdout",
     "output_type": "stream",
     "text": [
      "['As new' 'Good' 'To be done up' 'To renovate' 'Just renovated'\n",
      " 'To restore']\n"
     ]
    }
   ],
   "source": [
    "a = df['Status'].unique() \n",
    "#a = df['Area'].mean() \n",
    "print(a)"
   ]
  },
  {
   "cell_type": "code",
   "execution_count": 683,
   "metadata": {},
   "outputs": [
    {
     "name": "stdout",
     "output_type": "stream",
     "text": [
      "There are 9034 rows of data\n",
      "There are 8055 rows of data\n"
     ]
    }
   ],
   "source": [
    "print(\"There are {} rows of data\".format(len(df)))\n",
    "df.drop_duplicates(inplace=True) #remove duplicate/1097 removed\n",
    "print(\"There are {} rows of data\".format(len(df)))"
   ]
  },
  {
   "cell_type": "code",
   "execution_count": 690,
   "metadata": {},
   "outputs": [],
   "source": [
    "df1 = df[df['Status'].str.contains('As new')==True]\n",
    "df2 = df[df['Status'].str.contains('Good')==True]\n",
    "df3 = df[df['Status'].str.contains('Just renovated')==True]\n",
    "\n",
    "df4 = df[df['Status'].str.contains('To be done up')==True]\n",
    "df5 = df[df['Status'].str.contains('To renovate')==True]\n",
    "df6 = df[df['Status'].str.contains('To restore')==True]"
   ]
  },
  {
   "cell_type": "code",
   "execution_count": 691,
   "metadata": {},
   "outputs": [
    {
     "name": "stdout",
     "output_type": "stream",
     "text": [
      "There are 1712 rows of data\n",
      "There are 3030 rows of data\n",
      "There are 439 rows of data\n",
      "There are 1044 rows of data\n",
      "There are 1080 rows of data\n",
      "There are 53 rows of data\n"
     ]
    }
   ],
   "source": [
    "print(\"There are {} rows of data\".format(len(df1)))\n",
    "print(\"There are {} rows of data\".format(len(df2)))\n",
    "print(\"There are {} rows of data\".format(len(df3)))\n",
    "print(\"There are {} rows of data\".format(len(df4)))\n",
    "print(\"There are {} rows of data\".format(len(df5)))\n",
    "print(\"There are {} rows of data\".format(len(df6)))"
   ]
  },
  {
   "cell_type": "code",
   "execution_count": 658,
   "metadata": {},
   "outputs": [
    {
     "data": {
      "text/plain": [
       "Title              False\n",
       "Location           False\n",
       "Price              False\n",
       "Area               False\n",
       "Number_of_Rooms    False\n",
       "Furnished          False\n",
       "Kitchen type       False\n",
       "Status             False\n",
       "Garden surface     False\n",
       "Swimming Pool      False\n",
       "AreaFrom           False\n",
       "AreaTo              True\n",
       "dtype: bool"
      ]
     },
     "execution_count": 658,
     "metadata": {},
     "output_type": "execute_result"
    }
   ],
   "source": [
    "# To check how many rows of each attribute are NaN\n",
    "df.isna().any(axis=0)"
   ]
  },
  {
   "cell_type": "code",
   "execution_count": 610,
   "metadata": {},
   "outputs": [
    {
     "name": "stdout",
     "output_type": "stream",
     "text": [
      "1\n"
     ]
    }
   ],
   "source": [
    "\n",
    "missing_values_count = df.isnull().any(axis=0).sum()\n",
    "print(missing_values_count)"
   ]
  },
  {
   "cell_type": "code",
   "execution_count": 611,
   "metadata": {},
   "outputs": [
    {
     "data": {
      "text/html": [
       "<div>\n",
       "<style scoped>\n",
       "    .dataframe tbody tr th:only-of-type {\n",
       "        vertical-align: middle;\n",
       "    }\n",
       "\n",
       "    .dataframe tbody tr th {\n",
       "        vertical-align: top;\n",
       "    }\n",
       "\n",
       "    .dataframe thead th {\n",
       "        text-align: right;\n",
       "    }\n",
       "</style>\n",
       "<table border=\"1\" class=\"dataframe\">\n",
       "  <thead>\n",
       "    <tr style=\"text-align: right;\">\n",
       "      <th></th>\n",
       "      <th>Title</th>\n",
       "      <th>Location</th>\n",
       "      <th>Price</th>\n",
       "      <th>Area</th>\n",
       "      <th>Number_of_Rooms</th>\n",
       "      <th>Furnished</th>\n",
       "      <th>Kitchen type</th>\n",
       "      <th>Status</th>\n",
       "      <th>Garden surface</th>\n",
       "      <th>Swimming Pool</th>\n",
       "      <th>AreaFrom</th>\n",
       "    </tr>\n",
       "  </thead>\n",
       "  <tbody>\n",
       "    <tr>\n",
       "      <th>0</th>\n",
       "      <td>Villa for sale</td>\n",
       "      <td>Prins Karellaan 13</td>\n",
       "      <td>1650</td>\n",
       "      <td>499.0</td>\n",
       "      <td>4</td>\n",
       "      <td>No</td>\n",
       "      <td>Hyper equipped</td>\n",
       "      <td>As new</td>\n",
       "      <td>450</td>\n",
       "      <td>No</td>\n",
       "      <td>499</td>\n",
       "    </tr>\n",
       "    <tr>\n",
       "      <th>1</th>\n",
       "      <td>House for sale</td>\n",
       "      <td>Lembergsesteenweg 67 Box lot 2</td>\n",
       "      <td>419000</td>\n",
       "      <td>188.0</td>\n",
       "      <td>3</td>\n",
       "      <td>No</td>\n",
       "      <td>Hyper equipped</td>\n",
       "      <td>As new</td>\n",
       "      <td>330</td>\n",
       "      <td>No</td>\n",
       "      <td>188</td>\n",
       "    </tr>\n",
       "    <tr>\n",
       "      <th>2</th>\n",
       "      <td>House for sale</td>\n",
       "      <td>Lembergsesteenweg 67 Box lot 1</td>\n",
       "      <td>459000</td>\n",
       "      <td>164.0</td>\n",
       "      <td>3</td>\n",
       "      <td>No</td>\n",
       "      <td>Hyper equipped</td>\n",
       "      <td>As new</td>\n",
       "      <td>341</td>\n",
       "      <td>No</td>\n",
       "      <td>164</td>\n",
       "    </tr>\n",
       "    <tr>\n",
       "      <th>3</th>\n",
       "      <td>House for sale</td>\n",
       "      <td>Ruelle Hierby 17</td>\n",
       "      <td>149000</td>\n",
       "      <td>134.0</td>\n",
       "      <td>2</td>\n",
       "      <td>No</td>\n",
       "      <td>Installed</td>\n",
       "      <td>Good</td>\n",
       "      <td>300</td>\n",
       "      <td>No</td>\n",
       "      <td>134</td>\n",
       "    </tr>\n",
       "    <tr>\n",
       "      <th>4</th>\n",
       "      <td>House for sale</td>\n",
       "      <td>Rue Petite Voie 176</td>\n",
       "      <td>149000</td>\n",
       "      <td>198.0</td>\n",
       "      <td>5</td>\n",
       "      <td>No</td>\n",
       "      <td>Semi equipped</td>\n",
       "      <td>To be done up</td>\n",
       "      <td>147</td>\n",
       "      <td>No</td>\n",
       "      <td>198</td>\n",
       "    </tr>\n",
       "  </tbody>\n",
       "</table>\n",
       "</div>"
      ],
      "text/plain": [
       "            Title                        Location   Price   Area  \\\n",
       "0  Villa for sale              Prins Karellaan 13    1650  499.0   \n",
       "1  House for sale  Lembergsesteenweg 67 Box lot 2  419000  188.0   \n",
       "2  House for sale  Lembergsesteenweg 67 Box lot 1  459000  164.0   \n",
       "3  House for sale                Ruelle Hierby 17  149000  134.0   \n",
       "4  House for sale             Rue Petite Voie 176  149000  198.0   \n",
       "\n",
       "  Number_of_Rooms Furnished    Kitchen type         Status  Garden surface  \\\n",
       "0              4         No  Hyper equipped         As new             450   \n",
       "1              3         No  Hyper equipped         As new             330   \n",
       "2              3         No  Hyper equipped         As new             341   \n",
       "3              2         No       Installed           Good             300   \n",
       "4              5         No   Semi equipped  To be done up             147   \n",
       "\n",
       "  Swimming Pool  AreaFrom  \n",
       "0            No       499  \n",
       "1            No       188  \n",
       "2            No       164  \n",
       "3            No       134  \n",
       "4            No       198  "
      ]
     },
     "execution_count": 611,
     "metadata": {},
     "output_type": "execute_result"
    }
   ],
   "source": [
    "# remove all columns with at least one missing value\n",
    "columns_with_na_dropped = df.dropna(axis=1)\n",
    "columns_with_na_dropped.head()"
   ]
  },
  {
   "cell_type": "code",
   "execution_count": 612,
   "metadata": {},
   "outputs": [
    {
     "data": {
      "text/plain": [
       "0.0010267783801544276"
      ]
     },
     "execution_count": 612,
     "metadata": {},
     "output_type": "execute_result"
    }
   ],
   "source": [
    "# how many total missing values do we have?\n",
    "total_cells = np.product(df.shape)\n",
    "total_missing = missing_values_count.sum()\n",
    "\n",
    "# percent of data that is missing\n",
    "(total_missing/total_cells) * 100"
   ]
  },
  {
   "cell_type": "code",
   "execution_count": 613,
   "metadata": {},
   "outputs": [
    {
     "name": "stdout",
     "output_type": "stream",
     "text": [
      "Title               object\n",
      "Location            object\n",
      "Price                int64\n",
      "Area               float64\n",
      "Number_of_Rooms     object\n",
      "Furnished           object\n",
      "Kitchen type        object\n",
      "Status              object\n",
      "Garden surface       int64\n",
      "Swimming Pool       object\n",
      "AreaFrom             int64\n",
      "AreaTo             float64\n",
      "dtype: object\n"
     ]
    }
   ],
   "source": [
    "#Print dtype of every attribute\n",
    "result = df.dtypes\n",
    "print(result)"
   ]
  },
  {
   "cell_type": "code",
   "execution_count": 689,
   "metadata": {},
   "outputs": [
    {
     "data": {
      "image/png": "[encoded data removed]",
      "text/plain": [
       "<Figure size 432x288 with 1 Axes>"
      ]
     },
     "metadata": {
      "needs_background": "light"
     },
     "output_type": "display_data"
    }
   ],
   "source": [
    "import matplotlib.pyplot as plt\n",
    "ax = plt.gca()\n",
    "X1 = np.array(df.Area)\n",
    "\n",
    "y_target= np.array(df.Price)\n",
    "plt.scatter(X1, y_target, color=\"blue\")\n",
    "#plt.plot(predictions)\n",
    "plt.title(\"Scatter Plot\")\n",
    "plt.xlabel(\"Area\")\n",
    "plt.ylabel(\"Price\")\n",
    "plt.show()"
   ]
  },
  {
   "cell_type": "code",
   "execution_count": 665,
   "metadata": {},
   "outputs": [
    {
     "data": {
      "image/png": "[encoded data removed]",
      "text/plain": [
       "<Figure size 432x288 with 1 Axes>"
      ]
     },
     "metadata": {
      "needs_background": "light"
     },
     "output_type": "display_data"
    }
   ],
   "source": [
    "y_target= np.array(df22.Price)\n",
    "plt.hist(y_target, color=\"blue\")\n",
    "\n",
    "y_target= np.array(df22.Area)\n",
    "plt.hist(y_target, color=\"red\")\n",
    "plt.show()"
   ]
  },
  {
   "cell_type": "code",
   "execution_count": 686,
   "metadata": {},
   "outputs": [],
   "source": [
    "df = df[df['Price']>10000]\n",
    "df = df[df['Area']<1000]"
   ]
  },
  {
   "cell_type": "code",
   "execution_count": 688,
   "metadata": {},
   "outputs": [
    {
     "data": {
      "text/plain": [
       "7358"
      ]
     },
     "execution_count": 688,
     "metadata": {},
     "output_type": "execute_result"
    }
   ],
   "source": [
    "len(df)\n"
   ]
  },
  {
   "cell_type": "code",
   "execution_count": 692,
   "metadata": {},
   "outputs": [],
   "source": [
    "df_cleaned = df.to_csv('data_cleaned.csv') "
   ]
  }
 ],
 "metadata": {
  "interpreter": {
   "hash": "f92ba9c63fced51b16a9d8a2a7d17d868c393e230cb0c508c3b7f43d40196448"
  },
  "kernelspec": {
   "display_name": "Python 3.10.2 64-bit",
   "language": "python",
   "name": "python3"
  },
  "language_info": {
   "codemirror_mode": {
    "name": "ipython",
    "version": 3
   },
   "file_extension": ".py",
   "mimetype": "text/x-python",
   "name": "python",
   "nbconvert_exporter": "python",
   "pygments_lexer": "ipython3",
   "version": "3.10.2"
  },
  "orig_nbformat": 4
 },
 "nbformat": 4,
 "nbformat_minor": 2
}
